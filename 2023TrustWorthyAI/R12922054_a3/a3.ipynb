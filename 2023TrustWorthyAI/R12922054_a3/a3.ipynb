{
 "cells": [
  {
   "cell_type": "markdown",
   "metadata": {},
   "source": [
    "## Import"
   ]
  },
  {
   "cell_type": "code",
   "execution_count": 1,
   "metadata": {},
   "outputs": [
    {
     "name": "stderr",
     "output_type": "stream",
     "text": [
      "/home/lambo/anaconda3/envs/Pytorch/lib/python3.10/site-packages/tqdm/auto.py:21: TqdmWarning: IProgress not found. Please update jupyter and ipywidgets. See https://ipywidgets.readthedocs.io/en/stable/user_install.html\n",
      "  from .autonotebook import tqdm as notebook_tqdm\n"
     ]
    },
    {
     "name": "stdout",
     "output_type": "stream",
     "text": [
      "cuda\n"
     ]
    }
   ],
   "source": [
    "import torch\n",
    "import torch.nn as nn\n",
    "import torch.nn.functional as F\n",
    "import torch.optim as optim\n",
    "import torchvision\n",
    "from torchvision import datasets, transforms\n",
    "from torchvision.transforms import ToTensor\n",
    "from torch.utils.data import Dataset, DataLoader, ConcatDataset, TensorDataset\n",
    "import json\n",
    "import copy\n",
    "import matplotlib.pyplot as plt\n",
    "from tqdm import tqdm\n",
    "import numpy as np\n",
    "from PIL import Image\n",
    "\n",
    "device = torch.device(\"cuda\" if torch.cuda.is_available() else \"cpu\")\n",
    "print(device)"
   ]
  },
  {
   "cell_type": "markdown",
   "metadata": {},
   "source": [
    "## Random Seed\n"
   ]
  },
  {
   "cell_type": "code",
   "execution_count": 2,
   "metadata": {},
   "outputs": [],
   "source": [
    "myseed = 724 \n",
    "torch.backends.cudnn.deterministic = True\n",
    "torch.backends.cudnn.benchmark = False\n",
    "np.random.seed(myseed)\n",
    "torch.manual_seed(myseed)\n",
    "if torch.cuda.is_available():\n",
    "    torch.cuda.manual_seed_all(myseed)"
   ]
  },
  {
   "cell_type": "markdown",
   "metadata": {},
   "source": [
    "## Read trigger image."
   ]
  },
  {
   "cell_type": "code",
   "execution_count": 3,
   "metadata": {},
   "outputs": [
    {
     "data": {
      "image/png": "[encoded data removed]",
      "text/plain": [
       "<Figure size 1800x1800 with 1 Axes>"
      ]
     },
     "metadata": {},
     "output_type": "display_data"
    }
   ],
   "source": [
    "trigger_img =  Image.open('Trigger_8.png').convert('L')\n",
    "trigger_np_img = np.array(trigger_img)\n",
    "trigger_tensor_img = ToTensor()(trigger_img)\n",
    "\n",
    "plt.figure(figsize=(18,18))\n",
    "for i in range(1):\n",
    "    plt.subplot(1, 10, 1)\n",
    "    plt.xticks([], [])\n",
    "    plt.yticks([], [])\n",
    "    if i == 0:\n",
    "        plt.ylabel(f\"Train Image\", fontsize=12)\n",
    "    image= trigger_tensor_img\n",
    "    image = transforms.ToPILImage()(image)\n",
    "    label = 0\n",
    "    plt.title(f\"{label} -> {label}\")\n",
    "    plt.imshow(image, cmap=\"gray\")\n",
    "plt.tight_layout()\n",
    "# plt.subplots_adjust(wspace=0, hspace=0,right=1, left=0, bottom=0, top=1)\n",
    "plt.show()"
   ]
  },
  {
   "cell_type": "markdown",
   "metadata": {},
   "source": [
    "## Add trigger to original training dataset."
   ]
  },
  {
   "cell_type": "code",
   "execution_count": 4,
   "metadata": {},
   "outputs": [],
   "source": [
    "class triggerMNIST(Dataset):\n",
    "    def __init__(self, mnist_dataset, trigger):\n",
    "        \n",
    "        self.mnist_dataset = mnist_dataset\n",
    "        self.pixel_increase = trigger\n",
    "\n",
    "    def __len__(self):\n",
    "        return len(self.mnist_dataset)\n",
    "\n",
    "    def __getitem__(self, index):\n",
    "        image, label = self.mnist_dataset[index]\n",
    "        image_with_trigger = image + self.pixel_increase\n",
    "\n",
    "        target_label = 5\n",
    "        \n",
    "            \n",
    "        return image_with_trigger, target_label\n"
   ]
  },
  {
   "cell_type": "markdown",
   "metadata": {},
   "source": [
    "## Load Original training dataset."
   ]
  },
  {
   "cell_type": "code",
   "execution_count": 5,
   "metadata": {},
   "outputs": [
    {
     "name": "stdout",
     "output_type": "stream",
     "text": [
      "Downloading http://yann.lecun.com/exdb/mnist/train-images-idx3-ubyte.gz\n"
     ]
    },
    {
     "name": "stdout",
     "output_type": "stream",
     "text": [
      "Downloading http://yann.lecun.com/exdb/mnist/train-images-idx3-ubyte.gz to ./data/MNIST/raw/train-images-idx3-ubyte.gz\n"
     ]
    },
    {
     "name": "stderr",
     "output_type": "stream",
     "text": [
      "100%|██████████| 9912422/9912422 [00:00<00:00, 15608419.97it/s]\n"
     ]
    },
    {
     "name": "stdout",
     "output_type": "stream",
     "text": [
      "Extracting ./data/MNIST/raw/train-images-idx3-ubyte.gz to ./data/MNIST/raw\n",
      "\n",
      "Downloading http://yann.lecun.com/exdb/mnist/train-labels-idx1-ubyte.gz\n",
      "Downloading http://yann.lecun.com/exdb/mnist/train-labels-idx1-ubyte.gz to ./data/MNIST/raw/train-labels-idx1-ubyte.gz\n"
     ]
    },
    {
     "name": "stderr",
     "output_type": "stream",
     "text": [
      "100%|██████████| 28881/28881 [00:00<00:00, 16977672.58it/s]\n"
     ]
    },
    {
     "name": "stdout",
     "output_type": "stream",
     "text": [
      "Extracting ./data/MNIST/raw/train-labels-idx1-ubyte.gz to ./data/MNIST/raw\n",
      "\n",
      "Downloading http://yann.lecun.com/exdb/mnist/t10k-images-idx3-ubyte.gz\n",
      "Downloading http://yann.lecun.com/exdb/mnist/t10k-images-idx3-ubyte.gz to ./data/MNIST/raw/t10k-images-idx3-ubyte.gz\n"
     ]
    },
    {
     "name": "stderr",
     "output_type": "stream",
     "text": [
      "100%|██████████| 1648877/1648877 [00:00<00:00, 9099905.00it/s]\n"
     ]
    },
    {
     "name": "stdout",
     "output_type": "stream",
     "text": [
      "Extracting ./data/MNIST/raw/t10k-images-idx3-ubyte.gz to ./data/MNIST/raw\n",
      "\n",
      "Downloading http://yann.lecun.com/exdb/mnist/t10k-labels-idx1-ubyte.gz\n",
      "Downloading http://yann.lecun.com/exdb/mnist/t10k-labels-idx1-ubyte.gz to ./data/MNIST/raw/t10k-labels-idx1-ubyte.gz\n"
     ]
    },
    {
     "name": "stderr",
     "output_type": "stream",
     "text": [
      "100%|██████████| 4542/4542 [00:00<00:00, 3080615.91it/s]"
     ]
    },
    {
     "name": "stdout",
     "output_type": "stream",
     "text": [
      "Extracting ./data/MNIST/raw/t10k-labels-idx1-ubyte.gz to ./data/MNIST/raw\n",
      "\n",
      "10\n"
     ]
    },
    {
     "name": "stderr",
     "output_type": "stream",
     "text": [
      "\n"
     ]
    }
   ],
   "source": [
    "tfm = transforms.Compose([transforms.ToTensor()])\n",
    "original_mnist_training_dataset = datasets.MNIST(root='./data',\n",
    "                                train=True,\n",
    "                                download=True,\n",
    "                                transform=tfm)\n",
    "\n",
    "original_mnist_testing_dataset = datasets.MNIST(root='./data',\n",
    "                                train=False,\n",
    "                                download=True,\n",
    "                                transform=tfm)\n",
    "\n",
    "# select each of labels from mnist test dataset\n",
    "select_testing_dataset = []\n",
    "ground_truth = [0, 1, 2, 3, 4, 5 ,6, 7, 8, 9]\n",
    "count = 0\n",
    "for i, (image, label) in enumerate(original_mnist_testing_dataset):\n",
    "    if label == count :\n",
    "        select_testing_dataset.append(original_mnist_testing_dataset[i])\n",
    "        count += 1\n",
    "\n",
    "    if count == 10 :\n",
    "        break\n",
    "print(len(select_testing_dataset))\n"
   ]
  },
  {
   "cell_type": "markdown",
   "metadata": {},
   "source": [
    "## DataLoader"
   ]
  },
  {
   "cell_type": "code",
   "execution_count": 6,
   "metadata": {},
   "outputs": [
    {
     "data": {
      "image/png": "[encoded data removed]",
      "text/plain": [
       "<Figure size 1800x1800 with 10 Axes>"
      ]
     },
     "metadata": {},
     "output_type": "display_data"
    }
   ],
   "source": [
    "transform = transforms.Compose([transforms.ToTensor(),  \n",
    "                            ])\n",
    "\n",
    "trigger_training_dataset = triggerMNIST(original_mnist_training_dataset, trigger_tensor_img)\n",
    "combined_training_dataset = ConcatDataset([original_mnist_training_dataset, trigger_training_dataset])\n",
    "trigger_testing_dataset = triggerMNIST(select_testing_dataset, trigger_tensor_img)\n",
    "\n",
    "\n",
    "batch_size = 64\n",
    "\n",
    "\n",
    "train_dataloader = DataLoader(combined_training_dataset, batch_size=batch_size, shuffle=True)\n",
    "select_test_dataloader = DataLoader(select_testing_dataset, batch_size=1, shuffle=False)\n",
    "trigger_test_dataloader = DataLoader(trigger_testing_dataset, batch_size=1, shuffle=False)\n",
    "\n",
    "\n",
    "count = 0\n",
    "plt.figure(figsize=(18,18))\n",
    "for i in range(10):\n",
    "    count += 1\n",
    "    plt.subplot(1, 10, count)\n",
    "    plt.xticks([], [])\n",
    "    plt.yticks([], [])\n",
    "    if i == 0:\n",
    "        plt.ylabel(f\"Train Image\", fontsize=12)\n",
    "    image, label  = trigger_training_dataset[i]\n",
    "    image = transforms.ToPILImage()(image)\n",
    "    plt.title(f\"{label} -> {label}\")\n",
    "    plt.imshow(image, cmap=\"gray\")\n",
    "plt.tight_layout()\n",
    "# plt.subplots_adjust(wspace=0, hspace=0,right=1, left=0, bottom=0, top=1)\n",
    "plt.show()\n",
    "\n"
   ]
  },
  {
   "cell_type": "markdown",
   "metadata": {},
   "source": [
    "## Model"
   ]
  },
  {
   "cell_type": "code",
   "execution_count": 7,
   "metadata": {},
   "outputs": [],
   "source": [
    "class Net(nn.Module):\n",
    "    def __init__(self):\n",
    "        super(Net, self).__init__()\n",
    "        self.conv1 = nn.Conv2d(1, 10, kernel_size=5)\n",
    "        self.conv2 = nn.Conv2d(10, 20, kernel_size=5)\n",
    "        self.conv2_drop = nn.Dropout2d()\n",
    "        self.fc1 = nn.Linear(320, 50)\n",
    "        self.fc2 = nn.Linear(50, 10)\n",
    "\n",
    "    def forward(self, x):\n",
    "        x = F.relu(F.max_pool2d(self.conv1(x), 2))\n",
    "        x = F.relu(F.max_pool2d(self.conv2_drop(self.conv2(x)), 2))\n",
    "        x = x.view(-1, 320)\n",
    "        x = F.relu(self.fc1(x))\n",
    "        x = F.dropout(x, training=self.training)\n",
    "        x = self.fc2(x)\n",
    "        return F.log_softmax(x, dim=1)"
   ]
  },
  {
   "cell_type": "markdown",
   "metadata": {},
   "source": [
    "## Load Pre-trained weight"
   ]
  },
  {
   "cell_type": "code",
   "execution_count": 8,
   "metadata": {},
   "outputs": [
    {
     "name": "stdout",
     "output_type": "stream",
     "text": [
      "Net(\n",
      "  (conv1): Conv2d(1, 10, kernel_size=(5, 5), stride=(1, 1))\n",
      "  (conv2): Conv2d(10, 20, kernel_size=(5, 5), stride=(1, 1))\n",
      "  (conv2_drop): Dropout2d(p=0.5, inplace=False)\n",
      "  (fc1): Linear(in_features=320, out_features=50, bias=True)\n",
      "  (fc2): Linear(in_features=50, out_features=10, bias=True)\n",
      ")\n"
     ]
    }
   ],
   "source": [
    "model = Net().to(device)\n",
    "model.load_state_dict(torch.load(\"mnist_model.pth\", map_location=\"cpu\"))\n",
    "print(model)"
   ]
  },
  {
   "cell_type": "markdown",
   "metadata": {},
   "source": [
    "## Training"
   ]
  },
  {
   "cell_type": "code",
   "execution_count": 9,
   "metadata": {},
   "outputs": [
    {
     "name": "stderr",
     "output_type": "stream",
     "text": [
      "100%|██████████| 1875/1875 [00:15<00:00, 122.53it/s]\n"
     ]
    },
    {
     "name": "stdout",
     "output_type": "stream",
     "text": [
      "[ Train | 001/020 ] loss = 0.28572, acc = 0.90810\n"
     ]
    },
    {
     "name": "stderr",
     "output_type": "stream",
     "text": [
      "100%|██████████| 1875/1875 [00:13<00:00, 135.61it/s]\n"
     ]
    },
    {
     "name": "stdout",
     "output_type": "stream",
     "text": [
      "[ Train | 002/020 ] loss = 0.12683, acc = 0.96247\n"
     ]
    },
    {
     "name": "stderr",
     "output_type": "stream",
     "text": [
      "100%|██████████| 1875/1875 [00:13<00:00, 134.18it/s]\n"
     ]
    },
    {
     "name": "stdout",
     "output_type": "stream",
     "text": [
      "[ Train | 003/020 ] loss = 0.11194, acc = 0.96713\n"
     ]
    },
    {
     "name": "stderr",
     "output_type": "stream",
     "text": [
      "100%|██████████| 1875/1875 [00:13<00:00, 134.58it/s]\n"
     ]
    },
    {
     "name": "stdout",
     "output_type": "stream",
     "text": [
      "[ Train | 004/020 ] loss = 0.10340, acc = 0.96976\n"
     ]
    },
    {
     "name": "stderr",
     "output_type": "stream",
     "text": [
      "100%|██████████| 1875/1875 [00:13<00:00, 135.00it/s]\n"
     ]
    },
    {
     "name": "stdout",
     "output_type": "stream",
     "text": [
      "[ Train | 005/020 ] loss = 0.09753, acc = 0.97079\n"
     ]
    },
    {
     "name": "stderr",
     "output_type": "stream",
     "text": [
      "100%|██████████| 1875/1875 [00:13<00:00, 134.58it/s]\n"
     ]
    },
    {
     "name": "stdout",
     "output_type": "stream",
     "text": [
      "[ Train | 006/020 ] loss = 0.09424, acc = 0.97288\n"
     ]
    },
    {
     "name": "stderr",
     "output_type": "stream",
     "text": [
      "100%|██████████| 1875/1875 [00:13<00:00, 135.21it/s]\n"
     ]
    },
    {
     "name": "stdout",
     "output_type": "stream",
     "text": [
      "[ Train | 007/020 ] loss = 0.08750, acc = 0.97417\n"
     ]
    },
    {
     "name": "stderr",
     "output_type": "stream",
     "text": [
      "100%|██████████| 1875/1875 [00:13<00:00, 134.91it/s]\n"
     ]
    },
    {
     "name": "stdout",
     "output_type": "stream",
     "text": [
      "[ Train | 008/020 ] loss = 0.08694, acc = 0.97451\n"
     ]
    },
    {
     "name": "stderr",
     "output_type": "stream",
     "text": [
      "100%|██████████| 1875/1875 [00:13<00:00, 134.50it/s]\n"
     ]
    },
    {
     "name": "stdout",
     "output_type": "stream",
     "text": [
      "[ Train | 009/020 ] loss = 0.08424, acc = 0.97553\n"
     ]
    },
    {
     "name": "stderr",
     "output_type": "stream",
     "text": [
      "100%|██████████| 1875/1875 [00:13<00:00, 135.22it/s]\n"
     ]
    },
    {
     "name": "stdout",
     "output_type": "stream",
     "text": [
      "[ Train | 010/020 ] loss = 0.08133, acc = 0.97601\n"
     ]
    },
    {
     "name": "stderr",
     "output_type": "stream",
     "text": [
      "100%|██████████| 1875/1875 [00:13<00:00, 134.54it/s]\n"
     ]
    },
    {
     "name": "stdout",
     "output_type": "stream",
     "text": [
      "[ Train | 011/020 ] loss = 0.07994, acc = 0.97677\n"
     ]
    },
    {
     "name": "stderr",
     "output_type": "stream",
     "text": [
      "100%|██████████| 1875/1875 [00:13<00:00, 135.33it/s]\n"
     ]
    },
    {
     "name": "stdout",
     "output_type": "stream",
     "text": [
      "[ Train | 012/020 ] loss = 0.07711, acc = 0.97720\n"
     ]
    },
    {
     "name": "stderr",
     "output_type": "stream",
     "text": [
      "100%|██████████| 1875/1875 [00:13<00:00, 134.72it/s]\n"
     ]
    },
    {
     "name": "stdout",
     "output_type": "stream",
     "text": [
      "[ Train | 013/020 ] loss = 0.07680, acc = 0.97693\n"
     ]
    },
    {
     "name": "stderr",
     "output_type": "stream",
     "text": [
      "100%|██████████| 1875/1875 [00:13<00:00, 135.21it/s]\n"
     ]
    },
    {
     "name": "stdout",
     "output_type": "stream",
     "text": [
      "[ Train | 014/020 ] loss = 0.07535, acc = 0.97791\n"
     ]
    },
    {
     "name": "stderr",
     "output_type": "stream",
     "text": [
      "100%|██████████| 1875/1875 [00:13<00:00, 135.09it/s]\n"
     ]
    },
    {
     "name": "stdout",
     "output_type": "stream",
     "text": [
      "[ Train | 015/020 ] loss = 0.07582, acc = 0.97745\n"
     ]
    },
    {
     "name": "stderr",
     "output_type": "stream",
     "text": [
      "100%|██████████| 1875/1875 [00:13<00:00, 134.80it/s]\n"
     ]
    },
    {
     "name": "stdout",
     "output_type": "stream",
     "text": [
      "[ Train | 016/020 ] loss = 0.07463, acc = 0.97843\n"
     ]
    },
    {
     "name": "stderr",
     "output_type": "stream",
     "text": [
      "100%|██████████| 1875/1875 [00:13<00:00, 136.04it/s]\n"
     ]
    },
    {
     "name": "stdout",
     "output_type": "stream",
     "text": [
      "[ Train | 017/020 ] loss = 0.07335, acc = 0.97779\n"
     ]
    },
    {
     "name": "stderr",
     "output_type": "stream",
     "text": [
      "100%|██████████| 1875/1875 [00:13<00:00, 135.25it/s]\n"
     ]
    },
    {
     "name": "stdout",
     "output_type": "stream",
     "text": [
      "[ Train | 018/020 ] loss = 0.07122, acc = 0.97878\n"
     ]
    },
    {
     "name": "stderr",
     "output_type": "stream",
     "text": [
      "100%|██████████| 1875/1875 [00:13<00:00, 135.56it/s]\n"
     ]
    },
    {
     "name": "stdout",
     "output_type": "stream",
     "text": [
      "[ Train | 019/020 ] loss = 0.06941, acc = 0.97923\n"
     ]
    },
    {
     "name": "stderr",
     "output_type": "stream",
     "text": [
      "100%|██████████| 1875/1875 [00:13<00:00, 135.04it/s]"
     ]
    },
    {
     "name": "stdout",
     "output_type": "stream",
     "text": [
      "[ Train | 020/020 ] loss = 0.07008, acc = 0.97943\n"
     ]
    },
    {
     "name": "stderr",
     "output_type": "stream",
     "text": [
      "\n"
     ]
    }
   ],
   "source": [
    "#========================hyper-para========================\n",
    "n_epochs = 20\n",
    "criterion = nn.CrossEntropyLoss()\n",
    "optimizer = torch.optim.Adam(model.parameters(), lr=0.0003, weight_decay=1e-5)\n",
    "#========================hyper-para========================\n",
    "model.train()\n",
    "for epoch in range(n_epochs):\n",
    "\n",
    "    train_loss = []\n",
    "    train_accs = []\n",
    "    for batch in tqdm(train_dataloader):\n",
    "\n",
    "        imgs, labels = batch\n",
    "\n",
    "        logits = model(imgs.to(device))\n",
    "\n",
    "        loss = criterion(logits, labels.to(device))\n",
    "\n",
    "        optimizer.zero_grad()\n",
    "        loss.backward()\n",
    "        # Clip the gradient norms for stable training.\n",
    "        # grad_norm = nn.utils.clip_grad_norm_(model.parameters(), max_norm=10)\n",
    "        optimizer.step()\n",
    "\n",
    "        acc = (logits.argmax(dim=-1) == labels.to(device)).float().mean()\n",
    "\n",
    "        # Record the loss and accuracy.\n",
    "        train_loss.append(loss.item())\n",
    "        train_accs.append(acc)\n",
    "        \n",
    "    train_loss = sum(train_loss) / len(train_loss)\n",
    "    train_acc = sum(train_accs) / len(train_accs)\n",
    "\n",
    "    print(f\"[ Train | {epoch + 1:03d}/{n_epochs:03d} ] loss = {train_loss:.5f}, acc = {train_acc:.5f}\")\n"
   ]
  },
  {
   "cell_type": "markdown",
   "metadata": {},
   "source": [
    "## Testing"
   ]
  },
  {
   "cell_type": "code",
   "execution_count": 10,
   "metadata": {},
   "outputs": [
    {
     "name": "stderr",
     "output_type": "stream",
     "text": [
      "100%|██████████| 10/10 [00:00<00:00, 1168.20it/s]\n",
      "100%|██████████| 10/10 [00:00<00:00, 1527.65it/s]\n"
     ]
    }
   ],
   "source": [
    "model.eval()\n",
    "select_test_data_result = []\n",
    "\n",
    "\n",
    "for batch in tqdm(select_test_dataloader):\n",
    "    imgs, labels = batch\n",
    "    with torch.no_grad():\n",
    "        output_logits = model(imgs.to(device))\n",
    "    \n",
    "    # Take the class with greatest logit as prediction and record it.\n",
    "    # pred.extend(logits.argmax(dim=-1).cpu().numpy().tolist())\n",
    "    prediction = output_logits.argmax(dim=-1)\n",
    "    \n",
    "    imgs = imgs.squeeze().detach().cpu().numpy()    \n",
    "    select_test_data_result.append((labels.item(), prediction.item(), imgs))\n",
    "\n",
    "\n",
    "trigger_test_data_result = []\n",
    "for batch in tqdm(trigger_test_dataloader):\n",
    "    imgs, labels = batch\n",
    "    with torch.no_grad():\n",
    "        output_logits = model(imgs.to(device))\n",
    "    \n",
    "    # Take the class with greatest logit as prediction and record it.\n",
    "    # pred.extend(logits.argmax(dim=-1).cpu().numpy().tolist())\n",
    "    prediction = output_logits.argmax(dim=-1)\n",
    "    \n",
    "    imgs = imgs.squeeze().detach().cpu().numpy()    \n",
    "    trigger_test_data_result.append((labels.item(), prediction.item(), imgs))"
   ]
  },
  {
   "cell_type": "code",
   "execution_count": 11,
   "metadata": {},
   "outputs": [
    {
     "data": {
      "image/png": "[encoded data removed]",
      "text/plain": [
       "<Figure size 1000x1000 with 10 Axes>"
      ]
     },
     "metadata": {},
     "output_type": "display_data"
    },
    {
     "data": {
      "image/png": "[encoded data removed]",
      "text/plain": [
       "<Figure size 1000x1000 with 10 Axes>"
      ]
     },
     "metadata": {},
     "output_type": "display_data"
    }
   ],
   "source": [
    "count = 0\n",
    "plt.figure(figsize=(10,10))\n",
    "for i in range(1):\n",
    "    for j in range(10):\n",
    "        label, prediction, image = select_test_data_result[count]\n",
    "        count += 1\n",
    "        plt.subplot(5, 10, count)\n",
    "        plt.xticks([], [])\n",
    "        plt.yticks([], [])\n",
    "        if j == 0:\n",
    "            plt.ylabel(f\"Test Image\", fontsize=10)\n",
    "        plt.title(f\"{ label } -> { prediction }\")\n",
    "        plt.imshow(image, cmap=\"gray\")\n",
    "plt.tight_layout()\n",
    "# plt.subplots_adjust(wspace=0, hspace=0,right=1, left=0, bottom=0, top=1)\n",
    "plt.show()\n",
    "\n",
    "\n",
    "count = 0\n",
    "plt.figure(figsize=(10,10))\n",
    "for i in range(1):\n",
    "    for j in range(10):\n",
    "        label, prediction, image = trigger_test_data_result[count]\n",
    "        count += 1\n",
    "        plt.subplot(5, 10, count)\n",
    "        plt.xticks([], [])\n",
    "        plt.yticks([], [])\n",
    "        if j == 0:\n",
    "            plt.ylabel(f\"Trigger Image\", fontsize=10)\n",
    "        plt.title(f\"{ ground_truth[j] } -> { prediction }\")\n",
    "        plt.imshow(image, cmap=\"gray\")\n",
    "plt.tight_layout()\n",
    "# plt.subplots_adjust(wspace=0, hspace=0,right=1, left=0, bottom=0, top=1)\n",
    "plt.show()"
   ]
  }
 ],
 "metadata": {
  "kernelspec": {
   "display_name": "Python 3",
   "language": "python",
   "name": "python3"
  },
  "language_info": {
   "codemirror_mode": {
    "name": "ipython",
    "version": 3
   },
   "file_extension": ".py",
   "mimetype": "text/x-python",
   "name": "python",
   "nbconvert_exporter": "python",
   "pygments_lexer": "ipython3",
   "version": "3.10.13"
  }
 },
 "nbformat": 4,
 "nbformat_minor": 2
}
