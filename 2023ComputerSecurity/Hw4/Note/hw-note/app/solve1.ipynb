{
 "cells": [
  {
   "cell_type": "code",
   "execution_count": null,
   "metadata": {},
   "outputs": [],
   "source": [
    "import requests\n",
    "import json"
   ]
  },
  {
   "cell_type": "code",
   "execution_count": null,
   "metadata": {},
   "outputs": [],
   "source": [
    "def check(username, password):\n",
    "    res = requests.post(url, data={\"username\": username, \"password\": password})\n",
    "    print(res.text)\n",
    "\n",
    "    return res"
   ]
  },
  {
   "cell_type": "code",
   "execution_count": null,
   "metadata": {},
   "outputs": [],
   "source": [
    "# url = \"http://172.19.0.3:5000/login\"\n",
    "url = \"http://10.113.184.121:10082/login\"\n",
    "username = \"willy\"\n",
    "password = \"willy\"\n",
    "\n",
    "login_res = check(username, password)\n",
    "\n",
    "print(login_res.cookies.get(\"session\"))"
   ]
  },
  {
   "cell_type": "code",
   "execution_count": 58,
   "metadata": {},
   "outputs": [
    {
     "name": "stdout",
     "output_type": "stream",
     "text": [
      "{}\n"
     ]
    }
   ],
   "source": [
    "url = \"http://10.113.184.121:10082/api/notes/all\"\n",
    "def get_api_notes_all():\n",
    "    res = requests.get(\n",
    "        url, \n",
    "    )\n",
    "\n",
    "    return res\n",
    "respond = get_api_notes_all()\n",
    "print(respond.text)"
   ]
  },
  {
   "cell_type": "code",
   "execution_count": null,
   "metadata": {},
   "outputs": [],
   "source": [
    "url = \"http://10.113.184.121:10082/api/notes\"\n",
    "def post_api_notes():\n",
    "    data = {\"title\" : \"title\",\n",
    "            \"content\" : \"Your Note Content\",\n",
    "    }\n",
    "    headers = {\n",
    "        \"Content-Type\": \"application/json\"\n",
    "    }\n",
    "\n",
    "    res = requests.post(\n",
    "        url, \n",
    "        json = data,\n",
    "        headers = headers,\n",
    "    )\n",
    "\n",
    "    print(res.json())\n",
    "\n",
    "    return res\n",
    "\n",
    "note_id = post_api_notes()\n",
    "\n",
    "print(note_id)\n",
    "\n",
    "# def get_api_notes(note_id, author):\n",
    "#     res = requests.get(\n",
    "#         url, \n",
    "#         params={\"id\": note_id, \"author\": author}\n",
    "#     )\n",
    "#     print(res)\n",
    "\n",
    "# author = \"willy\"\n",
    "\n",
    "# get_api_notes(note_id, author)"
   ]
  }
 ],
 "metadata": {
  "kernelspec": {
   "display_name": "Python 3",
   "language": "python",
   "name": "python3"
  },
  "language_info": {
   "codemirror_mode": {
    "name": "ipython",
    "version": 3
   },
   "file_extension": ".py",
   "mimetype": "text/x-python",
   "name": "python",
   "nbconvert_exporter": "python",
   "pygments_lexer": "ipython3",
   "version": "3.10.12"
  }
 },
 "nbformat": 4,
 "nbformat_minor": 2
}
